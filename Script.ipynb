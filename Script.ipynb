{
  "nbformat": 4,
  "nbformat_minor": 0,
  "metadata": {
    "colab": {
      "name": "Script.ipynb",
      "version": "0.3.2",
      "provenance": [],
      "include_colab_link": true
    },
    "kernelspec": {
      "name": "python3",
      "display_name": "Python 3"
    },
    "accelerator": "GPU"
  },
  "cells": [
    {
      "cell_type": "markdown",
      "metadata": {
        "id": "view-in-github",
        "colab_type": "text"
      },
      "source": [
        "<a href=\"https://colab.research.google.com/github/kedir/Deep-learning/blob/master/Script.ipynb\" target=\"_parent\"><img src=\"https://colab.research.google.com/assets/colab-badge.svg\" alt=\"Open In Colab\"/></a>"
      ]
    },
    {
      "cell_type": "code",
      "metadata": {
        "id": "emh8_VwRSU-9",
        "colab_type": "code",
        "colab": {}
      },
      "source": [
        "from google.colab import files\n",
        "uploaded = files.upload('C:/Users/Kedir/Desktop/tf_serving_example/README.md')"
      ],
      "execution_count": 0,
      "outputs": []
    },
    {
      "cell_type": "code",
      "metadata": {
        "id": "jvNuWBnhURMX",
        "colab_type": "code",
        "colab": {
          "base_uri": "https://localhost:8080/",
          "height": 111
        },
        "outputId": "e7e2209b-1cc8-4bd5-edf7-441180ff983c"
      },
      "source": [
        "! git clone https://github.com/kedir/tf_serving_example.git"
      ],
      "execution_count": 10,
      "outputs": [
        {
          "output_type": "stream",
          "text": [
            "Cloning into 'tf_serving_example'...\n",
            "remote: Enumerating objects: 252, done.\u001b[K\n",
            "remote: Total 252 (delta 0), reused 0 (delta 0), pack-reused 252\u001b[K\n",
            "Receiving objects: 100% (252/252), 10.39 MiB | 16.17 MiB/s, done.\n",
            "Resolving deltas: 100% (175/175), done.\n"
          ],
          "name": "stdout"
        }
      ]
    },
    {
      "cell_type": "code",
      "metadata": {
        "id": "lLcliU4Yb5sw",
        "colab_type": "code",
        "colab": {
          "base_uri": "https://localhost:8080/",
          "height": 1000
        },
        "outputId": "f0ce6563-0fe1-407f-fbbd-375b87d359c3"
      },
      "source": [
        "!python /content/tf_serving_example/svnh_semi_supervised_model_train.py"
      ],
      "execution_count": 16,
      "outputs": [
        {
          "output_type": "stream",
          "text": [
            "SVHN Training Set: 182MB [00:02, 87.7MB/s]               \n",
            "SVHN Training Set: 64.3MB [00:00, 64.8MB/s]                \n",
            "WARNING: Logging before flag parsing goes to stderr.\n",
            "W0731 19:17:01.127421 139955038701440 deprecation_wrapper.py:119] From /content/tf_serving_example/svnh_semi_supervised_model_train.py:126: The name tf.reset_default_graph is deprecated. Please use tf.compat.v1.reset_default_graph instead.\n",
            "\n",
            "W0731 19:17:01.127771 139955038701440 deprecation_wrapper.py:119] From /content/tf_serving_example/svnh_semi_supervised_model_train.py:127: The name tf.placeholder is deprecated. Please use tf.compat.v1.placeholder instead.\n",
            "\n",
            "W0731 19:17:01.173022 139955038701440 deprecation_wrapper.py:119] From /content/tf_serving_example/gan.py:26: The name tf.placeholder_with_default is deprecated. Please use tf.compat.v1.placeholder_with_default instead.\n",
            "\n",
            "W0731 19:17:01.174291 139955038701440 deprecation_wrapper.py:119] From /content/tf_serving_example/gan.py:163: The name tf.variable_scope is deprecated. Please use tf.compat.v1.variable_scope instead.\n",
            "\n",
            "W0731 19:17:01.174608 139955038701440 deprecation.py:323] From /content/tf_serving_example/gan.py:165: dense (from tensorflow.python.layers.core) is deprecated and will be removed in a future version.\n",
            "Instructions for updating:\n",
            "Use keras.layers.dense instead.\n",
            "W0731 19:17:01.178434 139955038701440 deprecation.py:506] From /usr/local/lib/python3.6/dist-packages/tensorflow/python/ops/init_ops.py:1251: calling VarianceScaling.__init__ (from tensorflow.python.ops.init_ops) with dtype is deprecated and will be removed in a future version.\n",
            "Instructions for updating:\n",
            "Call initializer instance with the dtype argument instead of passing it to the constructor\n",
            "W0731 19:17:01.449861 139955038701440 deprecation.py:323] From /content/tf_serving_example/gan.py:168: batch_normalization (from tensorflow.python.layers.normalization) is deprecated and will be removed in a future version.\n",
            "Instructions for updating:\n",
            "Use keras.layers.BatchNormalization instead.  In particular, `tf.control_dependencies(tf.GraphKeys.UPDATE_OPS)` should not be used (consult the `tf.keras.layers.batch_normalization` documentation).\n",
            "W0731 19:17:01.516923 139955038701440 deprecation.py:323] From /content/tf_serving_example/gan.py:171: conv2d_transpose (from tensorflow.python.layers.convolutional) is deprecated and will be removed in a future version.\n",
            "Instructions for updating:\n",
            "Use `tf.keras.layers.Conv2DTranspose` instead.\n",
            "W0731 19:17:02.203132 139955038701440 deprecation.py:323] From /content/tf_serving_example/gan.py:199: dropout (from tensorflow.python.layers.core) is deprecated and will be removed in a future version.\n",
            "Instructions for updating:\n",
            "Use keras.layers.dropout instead.\n",
            "W0731 19:17:02.249675 139955038701440 deprecation.py:323] From /content/tf_serving_example/gan.py:202: conv2d (from tensorflow.python.layers.convolutional) is deprecated and will be removed in a future version.\n",
            "Instructions for updating:\n",
            "Use `tf.keras.layers.Conv2D` instead.\n",
            "W0731 19:17:02.696188 139955038701440 deprecation_wrapper.py:119] From /content/tf_serving_example/gan.py:263: The name tf.log is deprecated. Please use tf.math.log instead.\n",
            "\n",
            "W0731 19:17:02.830399 139955038701440 deprecation.py:323] From /usr/local/lib/python3.6/dist-packages/tensorflow/python/ops/nn_impl.py:180: add_dispatch_support.<locals>.wrapper (from tensorflow.python.ops.array_ops) is deprecated and will be removed in a future version.\n",
            "Instructions for updating:\n",
            "Use tf.where in 2.0, which has the same broadcast rule as np.where\n",
            "W0731 19:17:02.857916 139955038701440 deprecation.py:323] From /content/tf_serving_example/gan.py:94: softmax_cross_entropy_with_logits (from tensorflow.python.ops.nn_ops) is deprecated and will be removed in a future version.\n",
            "Instructions for updating:\n",
            "\n",
            "Future major versions of TensorFlow will allow gradients to flow\n",
            "into the labels input on backprop by default.\n",
            "\n",
            "See `tf.nn.softmax_cross_entropy_with_logits_v2`.\n",
            "\n",
            "W0731 19:17:03.336385 139955038701440 deprecation.py:323] From /content/tf_serving_example/gan.py:97: to_float (from tensorflow.python.ops.math_ops) is deprecated and will be removed in a future version.\n",
            "Instructions for updating:\n",
            "Use `tf.cast` instead.\n",
            "W0731 19:17:03.358780 139955038701440 deprecation_wrapper.py:119] From /content/tf_serving_example/gan.py:139: The name tf.train.AdamOptimizer is deprecated. Please use tf.compat.v1.train.AdamOptimizer instead.\n",
            "\n",
            "tcmalloc: large alloc 1800364032 bytes == 0x2691a000 @  0x7f49d21a71e7 0x7f49cfd30ca1 0x7f49cfd95778 0x7f49cfd95893 0x7f49cfe4abcd 0x7f49cfe4b52e 0x7f49cfe4dea8 0x7f49cff90586 0x7f49cff90af4 0x7f49cff947f2 0x7f49cff9566e 0x57d5db 0x7f49cfe56487 0x579b50 0x4fc55e 0x4f6128 0x4f7d60 0x4f876d 0x4f98c7 0x4f6128 0x4f42e7 0x5a1481 0x512a60 0x53ee21 0x57ec0c 0x4f88ba 0x4f98c7 0x4f7a28 0x4f876d 0x4f98c7 0x4f6128\n",
            "tcmalloc: large alloc 1800364032 bytes == 0x91e10000 @  0x7f49d21a71e7 0x7f49cfd30ca1 0x7f49cfd95778 0x7f49cfd95893 0x7f49cfe4abcd 0x7f49cfe4b52e 0x7f49cfe4dea8 0x7f49cff90586 0x7f49cff90af4 0x7f49cff947f2 0x7f49cff9566e 0x57d5db 0x7f49cfe561db 0x582165 0x4faaa4 0x4f6128 0x4f7d60 0x4f876d 0x4f98c7 0x4f6128 0x4f42e7 0x5a1481 0x512a60 0x53ee21 0x57ec0c 0x4f88ba 0x4f98c7 0x4f7a28 0x4f876d 0x4f98c7 0x4f6128\n",
            "W0731 19:17:07.921567 139955038701440 deprecation_wrapper.py:119] From /content/tf_serving_example/svnh_semi_supervised_model_train.py:37: The name tf.train.Saver is deprecated. Please use tf.compat.v1.train.Saver instead.\n",
            "\n",
            "2019-07-31 19:17:08.285171: I tensorflow/stream_executor/platform/default/dso_loader.cc:42] Successfully opened dynamic library libcuda.so.1\n",
            "2019-07-31 19:17:08.358653: I tensorflow/stream_executor/cuda/cuda_gpu_executor.cc:1005] successful NUMA node read from SysFS had negative value (-1), but there must be at least one NUMA node, so returning NUMA node zero\n",
            "2019-07-31 19:17:08.359101: I tensorflow/core/common_runtime/gpu/gpu_device.cc:1640] Found device 0 with properties: \n",
            "name: Tesla T4 major: 7 minor: 5 memoryClockRate(GHz): 1.59\n",
            "pciBusID: 0000:00:04.0\n",
            "2019-07-31 19:17:08.376222: I tensorflow/stream_executor/platform/default/dso_loader.cc:42] Successfully opened dynamic library libcudart.so.10.0\n",
            "2019-07-31 19:17:08.568206: I tensorflow/stream_executor/platform/default/dso_loader.cc:42] Successfully opened dynamic library libcublas.so.10.0\n",
            "2019-07-31 19:17:08.658442: I tensorflow/stream_executor/platform/default/dso_loader.cc:42] Successfully opened dynamic library libcufft.so.10.0\n",
            "2019-07-31 19:17:08.688543: I tensorflow/stream_executor/platform/default/dso_loader.cc:42] Successfully opened dynamic library libcurand.so.10.0\n",
            "2019-07-31 19:17:08.894338: I tensorflow/stream_executor/platform/default/dso_loader.cc:42] Successfully opened dynamic library libcusolver.so.10.0\n",
            "2019-07-31 19:17:09.017648: I tensorflow/stream_executor/platform/default/dso_loader.cc:42] Successfully opened dynamic library libcusparse.so.10.0\n",
            "2019-07-31 19:17:09.391674: I tensorflow/stream_executor/platform/default/dso_loader.cc:42] Successfully opened dynamic library libcudnn.so.7\n",
            "2019-07-31 19:17:09.391852: I tensorflow/stream_executor/cuda/cuda_gpu_executor.cc:1005] successful NUMA node read from SysFS had negative value (-1), but there must be at least one NUMA node, so returning NUMA node zero\n",
            "2019-07-31 19:17:09.392303: I tensorflow/stream_executor/cuda/cuda_gpu_executor.cc:1005] successful NUMA node read from SysFS had negative value (-1), but there must be at least one NUMA node, so returning NUMA node zero\n",
            "2019-07-31 19:17:09.392681: I tensorflow/core/common_runtime/gpu/gpu_device.cc:1763] Adding visible gpu devices: 0\n",
            "2019-07-31 19:17:09.409436: I tensorflow/core/platform/profile_utils/cpu_utils.cc:94] CPU Frequency: 2200000000 Hz\n",
            "2019-07-31 19:17:09.413271: I tensorflow/compiler/xla/service/service.cc:168] XLA service 0x3151640 executing computations on platform Host. Devices:\n",
            "2019-07-31 19:17:09.413303: I tensorflow/compiler/xla/service/service.cc:175]   StreamExecutor device (0): <undefined>, <undefined>\n",
            "2019-07-31 19:17:09.564035: I tensorflow/stream_executor/cuda/cuda_gpu_executor.cc:1005] successful NUMA node read from SysFS had negative value (-1), but there must be at least one NUMA node, so returning NUMA node zero\n",
            "2019-07-31 19:17:09.564547: I tensorflow/compiler/xla/service/service.cc:168] XLA service 0x3151d40 executing computations on platform CUDA. Devices:\n",
            "2019-07-31 19:17:09.564577: I tensorflow/compiler/xla/service/service.cc:175]   StreamExecutor device (0): Tesla T4, Compute Capability 7.5\n",
            "2019-07-31 19:17:09.564782: I tensorflow/stream_executor/cuda/cuda_gpu_executor.cc:1005] successful NUMA node read from SysFS had negative value (-1), but there must be at least one NUMA node, so returning NUMA node zero\n",
            "2019-07-31 19:17:09.565127: I tensorflow/core/common_runtime/gpu/gpu_device.cc:1640] Found device 0 with properties: \n",
            "name: Tesla T4 major: 7 minor: 5 memoryClockRate(GHz): 1.59\n",
            "pciBusID: 0000:00:04.0\n",
            "2019-07-31 19:17:09.565181: I tensorflow/stream_executor/platform/default/dso_loader.cc:42] Successfully opened dynamic library libcudart.so.10.0\n",
            "2019-07-31 19:17:09.565204: I tensorflow/stream_executor/platform/default/dso_loader.cc:42] Successfully opened dynamic library libcublas.so.10.0\n",
            "2019-07-31 19:17:09.565226: I tensorflow/stream_executor/platform/default/dso_loader.cc:42] Successfully opened dynamic library libcufft.so.10.0\n",
            "2019-07-31 19:17:09.565247: I tensorflow/stream_executor/platform/default/dso_loader.cc:42] Successfully opened dynamic library libcurand.so.10.0\n",
            "2019-07-31 19:17:09.565263: I tensorflow/stream_executor/platform/default/dso_loader.cc:42] Successfully opened dynamic library libcusolver.so.10.0\n",
            "2019-07-31 19:17:09.565280: I tensorflow/stream_executor/platform/default/dso_loader.cc:42] Successfully opened dynamic library libcusparse.so.10.0\n",
            "2019-07-31 19:17:09.565297: I tensorflow/stream_executor/platform/default/dso_loader.cc:42] Successfully opened dynamic library libcudnn.so.7\n",
            "2019-07-31 19:17:09.565358: I tensorflow/stream_executor/cuda/cuda_gpu_executor.cc:1005] successful NUMA node read from SysFS had negative value (-1), but there must be at least one NUMA node, so returning NUMA node zero\n",
            "2019-07-31 19:17:09.565790: I tensorflow/stream_executor/cuda/cuda_gpu_executor.cc:1005] successful NUMA node read from SysFS had negative value (-1), but there must be at least one NUMA node, so returning NUMA node zero\n",
            "2019-07-31 19:17:09.566118: I tensorflow/core/common_runtime/gpu/gpu_device.cc:1763] Adding visible gpu devices: 0\n",
            "2019-07-31 19:17:09.570990: I tensorflow/stream_executor/platform/default/dso_loader.cc:42] Successfully opened dynamic library libcudart.so.10.0\n",
            "2019-07-31 19:17:09.573324: I tensorflow/core/common_runtime/gpu/gpu_device.cc:1181] Device interconnect StreamExecutor with strength 1 edge matrix:\n",
            "2019-07-31 19:17:09.573354: I tensorflow/core/common_runtime/gpu/gpu_device.cc:1187]      0 \n",
            "2019-07-31 19:17:09.573366: I tensorflow/core/common_runtime/gpu/gpu_device.cc:1200] 0:   N \n",
            "2019-07-31 19:17:09.575269: I tensorflow/stream_executor/cuda/cuda_gpu_executor.cc:1005] successful NUMA node read from SysFS had negative value (-1), but there must be at least one NUMA node, so returning NUMA node zero\n",
            "2019-07-31 19:17:09.575702: I tensorflow/stream_executor/cuda/cuda_gpu_executor.cc:1005] successful NUMA node read from SysFS had negative value (-1), but there must be at least one NUMA node, so returning NUMA node zero\n",
            "2019-07-31 19:17:09.576063: W tensorflow/core/common_runtime/gpu/gpu_bfc_allocator.cc:40] Overriding allow_growth setting because the TF_FORCE_GPU_ALLOW_GROWTH environment variable is set. Original config value was 0.\n",
            "2019-07-31 19:17:09.576109: I tensorflow/core/common_runtime/gpu/gpu_device.cc:1326] Created TensorFlow device (/job:localhost/replica:0/task:0/device:GPU:0 with 14202 MB memory) -> physical GPU (device: 0, name: Tesla T4, pci bus id: 0000:00:04.0, compute capability: 7.5)\n",
            "Epoch: 0\n",
            "tcmalloc: large alloc 1800364032 bytes == 0xfd356000 @  0x7f49d21a71e7 0x7f49cfd30ca1 0x7f49cfd95778 0x7f49cfd95893 0x7f49cfe232da 0x7f49cfe23728 0x4f9ba9 0x59c3a9 0x4f9b2e 0x4f7a28 0x4f876d 0x4f98c7 0x4f7a28 0x4f876d 0x4f98c7 0x4f6128 0x4f9023 0x6415b2 0x64166a 0x643730 0x62b26e 0x4b4cb0 0x7f49d1da4b97 0x5bdf6a\n",
            "2019-07-31 19:17:13.096832: I tensorflow/stream_executor/platform/default/dso_loader.cc:42] Successfully opened dynamic library libcublas.so.10.0\n",
            "2019-07-31 19:17:13.774263: I tensorflow/stream_executor/platform/default/dso_loader.cc:42] Successfully opened dynamic library libcudnn.so.7\n",
            "\t\tClassifier train accuracy: 0.162\n",
            "\t\tClassifier test accuracy: 0.21465888137676706\n",
            "\t\tStep : 573\n",
            "\t\tStep time: 0.06371641159057617\n",
            "\t\tEpoch time: 17.050875425338745\n",
            "Epoch: 1\n",
            "tcmalloc: large alloc 1800364032 bytes == 0x16904c000 @  0x7f49d21a71e7 0x7f49cfd30ca1 0x7f49cfd95778 0x7f49cfd95893 0x7f49cfe232da 0x7f49cfe23728 0x4f9ba9 0x59c3a9 0x4f9b2e 0x4f7a28 0x4f876d 0x4f98c7 0x4f7a28 0x4f876d 0x4f98c7 0x4f6128 0x4f9023 0x6415b2 0x64166a 0x643730 0x62b26e 0x4b4cb0 0x7f49d1da4b97 0x5bdf6a\n",
            "\t\tClassifier train accuracy: 0.276\n",
            "\t\tClassifier test accuracy: 0.27420098340503996\n",
            "\t\tStep : 1146\n",
            "\t\tStep time: 0.015653371810913086\n",
            "\t\tEpoch time: 13.708017349243164\n",
            "Epoch: 2\n",
            "tcmalloc: large alloc 1800364032 bytes == 0xfd356000 @  0x7f49d21a71e7 0x7f49cfd30ca1 0x7f49cfd95778 0x7f49cfd95893 0x7f49cfe232da 0x7f49cfe23728 0x4f9ba9 0x59c3a9 0x4f9b2e 0x4f7a28 0x4f876d 0x4f98c7 0x4f7a28 0x4f876d 0x4f98c7 0x4f6128 0x4f9023 0x6415b2 0x64166a 0x643730 0x62b26e 0x4b4cb0 0x7f49d1da4b97 0x5bdf6a\n",
            "\t\tClassifier train accuracy: 0.382\n",
            "\t\tClassifier test accuracy: 0.3918254456054087\n",
            "\t\tStep : 1719\n",
            "\t\tStep time: 0.015940189361572266\n",
            "\t\tEpoch time: 16.003556489944458\n",
            "Epoch: 3\n",
            "\t\tClassifier train accuracy: 0.574\n",
            "\t\tClassifier test accuracy: 0.4897818070067609\n",
            "\t\tStep : 2292\n",
            "\t\tStep time: 0.01740550994873047\n",
            "\t\tEpoch time: 13.302920579910278\n",
            "Epoch: 4\n",
            "\t\tClassifier train accuracy: 0.677\n",
            "\t\tClassifier test accuracy: 0.5739090350338045\n",
            "\t\tStep : 2865\n",
            "\t\tStep time: 0.016542434692382812\n",
            "\t\tEpoch time: 14.567657947540283\n",
            "Epoch: 5\n",
            "\t\tClassifier train accuracy: 0.759\n",
            "\t\tClassifier test accuracy: 0.6184695759065765\n",
            "\t\tStep : 3438\n",
            "\t\tStep time: 0.01779007911682129\n",
            "\t\tEpoch time: 13.962548017501831\n",
            "Epoch: 6\n",
            "\t\tClassifier train accuracy: 0.825\n",
            "\t\tClassifier test accuracy: 0.6486631837738168\n",
            "\t\tStep : 4011\n",
            "\t\tStep time: 0.02382802963256836\n",
            "\t\tEpoch time: 16.255036115646362\n",
            "Epoch: 7\n",
            "\t\tClassifier train accuracy: 0.865\n",
            "\t\tClassifier test accuracy: 0.6090964966195451\n",
            "\t\tStep : 4584\n",
            "\t\tStep time: 0.016232728958129883\n",
            "\t\tEpoch time: 12.8493070602417\n",
            "Epoch: 8\n",
            "\t\tClassifier train accuracy: 0.879\n",
            "\t\tClassifier test accuracy: 0.6388291333743086\n",
            "\t\tStep : 5157\n",
            "\t\tStep time: 0.017397165298461914\n",
            "\t\tEpoch time: 13.317713737487793\n",
            "Epoch: 9\n",
            "\t\tClassifier train accuracy: 0.904\n",
            "\t\tClassifier test accuracy: 0.6745543945912723\n",
            "\t\tStep : 5730\n",
            "\t\tStep time: 0.01587533950805664\n",
            "\t\tEpoch time: 13.24466872215271\n",
            "Epoch: 10\n",
            "\t\tClassifier train accuracy: 0.913\n",
            "\t\tClassifier test accuracy: 0.6693300553165334\n",
            "\t\tStep : 6303\n",
            "\t\tStep time: 0.017120361328125\n",
            "\t\tEpoch time: 13.250393152236938\n",
            "Epoch: 11\n",
            "\t\tClassifier train accuracy: 0.931\n",
            "\t\tClassifier test accuracy: 0.6614935464044254\n",
            "\t\tStep : 6876\n",
            "\t\tStep time: 0.017293214797973633\n",
            "\t\tEpoch time: 13.622770547866821\n",
            "Epoch: 12\n",
            "\t\tClassifier train accuracy: 0.922\n",
            "\t\tClassifier test accuracy: 0.6857713583282115\n",
            "\t\tStep : 7449\n",
            "\t\tStep time: 0.017531871795654297\n",
            "\t\tEpoch time: 13.634514331817627\n",
            "Epoch: 13\n",
            "\t\tClassifier train accuracy: 0.927\n",
            "\t\tClassifier test accuracy: 0.686539643515673\n",
            "\t\tStep : 8022\n",
            "\t\tStep time: 0.01834249496459961\n",
            "\t\tEpoch time: 13.61769700050354\n",
            "Epoch: 14\n",
            "\t\tClassifier train accuracy: 0.933\n",
            "\t\tClassifier test accuracy: 0.6694837123540258\n",
            "\t\tStep : 8595\n",
            "\t\tStep time: 0.018225431442260742\n",
            "\t\tEpoch time: 13.808080911636353\n",
            "Epoch: 15\n",
            "\t\tClassifier train accuracy: 0.935\n",
            "\t\tClassifier test accuracy: 0.6806238475722188\n",
            "\t\tStep : 9168\n",
            "\t\tStep time: 0.018402576446533203\n",
            "\t\tEpoch time: 13.290251731872559\n",
            "Epoch: 16\n",
            "\t\tClassifier train accuracy: 0.934\n",
            "\t\tClassifier test accuracy: 0.6856177012907191\n",
            "\t\tStep : 9741\n",
            "\t\tStep time: 0.01605820655822754\n",
            "\t\tEpoch time: 13.230092763900757\n",
            "Epoch: 17\n",
            "\t\tClassifier train accuracy: 0.937\n",
            "\t\tClassifier test accuracy: 0.6783958205285802\n",
            "\t\tStep : 10314\n",
            "\t\tStep time: 0.017002582550048828\n",
            "\t\tEpoch time: 13.65064001083374\n",
            "Epoch: 18\n",
            "\t\tClassifier train accuracy: 0.936\n",
            "\t\tClassifier test accuracy: 0.6903810694529809\n",
            "\t\tStep : 10887\n",
            "\t\tStep time: 0.018144607543945312\n",
            "\t\tEpoch time: 13.504678964614868\n",
            "Epoch: 19\n",
            "\t\tClassifier train accuracy: 0.936\n",
            "\t\tClassifier test accuracy: 0.6853872157344807\n",
            "\t\tStep : 11460\n",
            "\t\tStep time: 0.01636338233947754\n",
            "\t\tEpoch time: 12.837854623794556\n",
            "Epoch: 20\n",
            "\t\tClassifier train accuracy: 0.938\n",
            "\t\tClassifier test accuracy: 0.68700061462815\n",
            "\t\tStep : 12033\n",
            "\t\tStep time: 0.016901016235351562\n",
            "\t\tEpoch time: 12.853751420974731\n",
            "Epoch: 21\n",
            "\t\tClassifier train accuracy: 0.936\n",
            "\t\tClassifier test accuracy: 0.6856945298094653\n",
            "\t\tStep : 12606\n",
            "\t\tStep time: 0.016633033752441406\n",
            "\t\tEpoch time: 12.767205476760864\n",
            "Epoch: 22\n",
            "\t\tClassifier train accuracy: 0.937\n",
            "\t\tClassifier test accuracy: 0.6810079901659496\n",
            "\t\tStep : 13179\n",
            "\t\tStep time: 0.015859603881835938\n",
            "\t\tEpoch time: 12.771755695343018\n",
            "Epoch: 23\n",
            "\t\tClassifier train accuracy: 0.932\n",
            "\t\tClassifier test accuracy: 0.681161647203442\n",
            "\t\tStep : 13752\n",
            "\t\tStep time: 0.01589822769165039\n",
            "\t\tEpoch time: 12.797736406326294\n",
            "Epoch: 24\n",
            "\t\tClassifier train accuracy: 0.939\n",
            "\t\tClassifier test accuracy: 0.6770897357098955\n",
            "\t\tStep : 14325\n",
            "\t\tStep time: 0.01666426658630371\n",
            "\t\tEpoch time: 12.860862731933594\n"
          ],
          "name": "stdout"
        }
      ]
    },
    {
      "cell_type": "code",
      "metadata": {
        "id": "1EqBQs7ufc0Y",
        "colab_type": "code",
        "colab": {
          "base_uri": "https://localhost:8080/",
          "height": 54
        },
        "outputId": "9a1315f1-2c33-49bc-8bd0-564faa865e58"
      },
      "source": [
        "ls ./checkpoints"
      ],
      "execution_count": 17,
      "outputs": [
        {
          "output_type": "stream",
          "text": [
            "checkpoint                          generator.ckpt.index\n",
            "generator.ckpt.data-00000-of-00001  generator.ckpt.meta\n"
          ],
          "name": "stdout"
        }
      ]
    },
    {
      "cell_type": "code",
      "metadata": {
        "id": "fZtnpDzJfdjs",
        "colab_type": "code",
        "colab": {
          "base_uri": "https://localhost:8080/",
          "height": 92
        },
        "outputId": "c1885de9-50ab-4cd3-87f7-c12dff2a49ca"
      },
      "source": [
        "import glob\n",
        "ipynb_files = sorted(glob.glob('./checkpoints/*'))\n",
        "# archived_files = [f for f in ipynb_files if int(f.split('/')[-1][:2]) % 2]\n",
        "for f in ipynb_files:\n",
        "    print(f)"
      ],
      "execution_count": 18,
      "outputs": [
        {
          "output_type": "stream",
          "text": [
            "./checkpoints/checkpoint\n",
            "./checkpoints/generator.ckpt.data-00000-of-00001\n",
            "./checkpoints/generator.ckpt.index\n",
            "./checkpoints/generator.ckpt.meta\n"
          ],
          "name": "stdout"
        }
      ]
    },
    {
      "cell_type": "code",
      "metadata": {
        "id": "uIT1ZlFdfeT_",
        "colab_type": "code",
        "colab": {
          "base_uri": "https://localhost:8080/",
          "height": 54
        },
        "outputId": "834f552e-61d9-460e-c96a-fe0cdca51768"
      },
      "source": [
        "!pip install -U -q PyDrive"
      ],
      "execution_count": 19,
      "outputs": [
        {
          "output_type": "stream",
          "text": [
            "\u001b[?25l\r\u001b[K     |▎                               | 10kB 24.6MB/s eta 0:00:01\r\u001b[K     |▋                               | 20kB 3.4MB/s eta 0:00:01\r\u001b[K     |█                               | 30kB 4.9MB/s eta 0:00:01\r\u001b[K     |█▎                              | 40kB 3.1MB/s eta 0:00:01\r\u001b[K     |█▋                              | 51kB 3.8MB/s eta 0:00:01\r\u001b[K     |██                              | 61kB 4.6MB/s eta 0:00:01\r\u001b[K     |██▎                             | 71kB 5.3MB/s eta 0:00:01\r\u001b[K     |██▋                             | 81kB 5.9MB/s eta 0:00:01\r\u001b[K     |███                             | 92kB 6.6MB/s eta 0:00:01\r\u001b[K     |███▎                            | 102kB 5.0MB/s eta 0:00:01\r\u001b[K     |███▋                            | 112kB 5.0MB/s eta 0:00:01\r\u001b[K     |████                            | 122kB 5.0MB/s eta 0:00:01\r\u001b[K     |████▎                           | 133kB 5.0MB/s eta 0:00:01\r\u001b[K     |████▋                           | 143kB 5.0MB/s eta 0:00:01\r\u001b[K     |█████                           | 153kB 5.0MB/s eta 0:00:01\r\u001b[K     |█████▎                          | 163kB 5.0MB/s eta 0:00:01\r\u001b[K     |█████▋                          | 174kB 5.0MB/s eta 0:00:01\r\u001b[K     |██████                          | 184kB 5.0MB/s eta 0:00:01\r\u001b[K     |██████▎                         | 194kB 5.0MB/s eta 0:00:01\r\u001b[K     |██████▋                         | 204kB 5.0MB/s eta 0:00:01\r\u001b[K     |███████                         | 215kB 5.0MB/s eta 0:00:01\r\u001b[K     |███████▎                        | 225kB 5.0MB/s eta 0:00:01\r\u001b[K     |███████▋                        | 235kB 5.0MB/s eta 0:00:01\r\u001b[K     |████████                        | 245kB 5.0MB/s eta 0:00:01\r\u001b[K     |████████▎                       | 256kB 5.0MB/s eta 0:00:01\r\u001b[K     |████████▋                       | 266kB 5.0MB/s eta 0:00:01\r\u001b[K     |█████████                       | 276kB 5.0MB/s eta 0:00:01\r\u001b[K     |█████████▎                      | 286kB 5.0MB/s eta 0:00:01\r\u001b[K     |█████████▋                      | 296kB 5.0MB/s eta 0:00:01\r\u001b[K     |██████████                      | 307kB 5.0MB/s eta 0:00:01\r\u001b[K     |██████████▎                     | 317kB 5.0MB/s eta 0:00:01\r\u001b[K     |██████████▋                     | 327kB 5.0MB/s eta 0:00:01\r\u001b[K     |███████████                     | 337kB 5.0MB/s eta 0:00:01\r\u001b[K     |███████████▎                    | 348kB 5.0MB/s eta 0:00:01\r\u001b[K     |███████████▋                    | 358kB 5.0MB/s eta 0:00:01\r\u001b[K     |████████████                    | 368kB 5.0MB/s eta 0:00:01\r\u001b[K     |████████████▎                   | 378kB 5.0MB/s eta 0:00:01\r\u001b[K     |████████████▋                   | 389kB 5.0MB/s eta 0:00:01\r\u001b[K     |█████████████                   | 399kB 5.0MB/s eta 0:00:01\r\u001b[K     |█████████████▎                  | 409kB 5.0MB/s eta 0:00:01\r\u001b[K     |█████████████▋                  | 419kB 5.0MB/s eta 0:00:01\r\u001b[K     |██████████████                  | 430kB 5.0MB/s eta 0:00:01\r\u001b[K     |██████████████▎                 | 440kB 5.0MB/s eta 0:00:01\r\u001b[K     |██████████████▋                 | 450kB 5.0MB/s eta 0:00:01\r\u001b[K     |███████████████                 | 460kB 5.0MB/s eta 0:00:01\r\u001b[K     |███████████████▎                | 471kB 5.0MB/s eta 0:00:01\r\u001b[K     |███████████████▋                | 481kB 5.0MB/s eta 0:00:01\r\u001b[K     |████████████████                | 491kB 5.0MB/s eta 0:00:01\r\u001b[K     |████████████████▎               | 501kB 5.0MB/s eta 0:00:01\r\u001b[K     |████████████████▋               | 512kB 5.0MB/s eta 0:00:01\r\u001b[K     |█████████████████               | 522kB 5.0MB/s eta 0:00:01\r\u001b[K     |█████████████████▎              | 532kB 5.0MB/s eta 0:00:01\r\u001b[K     |█████████████████▋              | 542kB 5.0MB/s eta 0:00:01\r\u001b[K     |██████████████████              | 552kB 5.0MB/s eta 0:00:01\r\u001b[K     |██████████████████▎             | 563kB 5.0MB/s eta 0:00:01\r\u001b[K     |██████████████████▋             | 573kB 5.0MB/s eta 0:00:01\r\u001b[K     |███████████████████             | 583kB 5.0MB/s eta 0:00:01\r\u001b[K     |███████████████████▎            | 593kB 5.0MB/s eta 0:00:01\r\u001b[K     |███████████████████▋            | 604kB 5.0MB/s eta 0:00:01\r\u001b[K     |████████████████████            | 614kB 5.0MB/s eta 0:00:01\r\u001b[K     |████████████████████▎           | 624kB 5.0MB/s eta 0:00:01\r\u001b[K     |████████████████████▋           | 634kB 5.0MB/s eta 0:00:01\r\u001b[K     |█████████████████████           | 645kB 5.0MB/s eta 0:00:01\r\u001b[K     |█████████████████████▎          | 655kB 5.0MB/s eta 0:00:01\r\u001b[K     |█████████████████████▋          | 665kB 5.0MB/s eta 0:00:01\r\u001b[K     |██████████████████████          | 675kB 5.0MB/s eta 0:00:01\r\u001b[K     |██████████████████████▎         | 686kB 5.0MB/s eta 0:00:01\r\u001b[K     |██████████████████████▋         | 696kB 5.0MB/s eta 0:00:01\r\u001b[K     |███████████████████████         | 706kB 5.0MB/s eta 0:00:01\r\u001b[K     |███████████████████████▎        | 716kB 5.0MB/s eta 0:00:01\r\u001b[K     |███████████████████████▋        | 727kB 5.0MB/s eta 0:00:01\r\u001b[K     |████████████████████████        | 737kB 5.0MB/s eta 0:00:01\r\u001b[K     |████████████████████████▎       | 747kB 5.0MB/s eta 0:00:01\r\u001b[K     |████████████████████████▋       | 757kB 5.0MB/s eta 0:00:01\r\u001b[K     |████████████████████████▉       | 768kB 5.0MB/s eta 0:00:01\r\u001b[K     |█████████████████████████▏      | 778kB 5.0MB/s eta 0:00:01\r\u001b[K     |█████████████████████████▌      | 788kB 5.0MB/s eta 0:00:01\r\u001b[K     |█████████████████████████▉      | 798kB 5.0MB/s eta 0:00:01\r\u001b[K     |██████████████████████████▏     | 808kB 5.0MB/s eta 0:00:01\r\u001b[K     |██████████████████████████▌     | 819kB 5.0MB/s eta 0:00:01\r\u001b[K     |██████████████████████████▉     | 829kB 5.0MB/s eta 0:00:01\r\u001b[K     |███████████████████████████▏    | 839kB 5.0MB/s eta 0:00:01\r\u001b[K     |███████████████████████████▌    | 849kB 5.0MB/s eta 0:00:01\r\u001b[K     |███████████████████████████▉    | 860kB 5.0MB/s eta 0:00:01\r\u001b[K     |████████████████████████████▏   | 870kB 5.0MB/s eta 0:00:01\r\u001b[K     |████████████████████████████▌   | 880kB 5.0MB/s eta 0:00:01\r\u001b[K     |████████████████████████████▉   | 890kB 5.0MB/s eta 0:00:01\r\u001b[K     |█████████████████████████████▏  | 901kB 5.0MB/s eta 0:00:01\r\u001b[K     |█████████████████████████████▌  | 911kB 5.0MB/s eta 0:00:01\r\u001b[K     |█████████████████████████████▉  | 921kB 5.0MB/s eta 0:00:01\r\u001b[K     |██████████████████████████████▏ | 931kB 5.0MB/s eta 0:00:01\r\u001b[K     |██████████████████████████████▌ | 942kB 5.0MB/s eta 0:00:01\r\u001b[K     |██████████████████████████████▉ | 952kB 5.0MB/s eta 0:00:01\r\u001b[K     |███████████████████████████████▏| 962kB 5.0MB/s eta 0:00:01\r\u001b[K     |███████████████████████████████▌| 972kB 5.0MB/s eta 0:00:01\r\u001b[K     |███████████████████████████████▉| 983kB 5.0MB/s eta 0:00:01\r\u001b[K     |████████████████████████████████| 993kB 5.0MB/s \n",
            "\u001b[?25h  Building wheel for PyDrive (setup.py) ... \u001b[?25l\u001b[?25hdone\n"
          ],
          "name": "stdout"
        }
      ]
    },
    {
      "cell_type": "code",
      "metadata": {
        "id": "hkq30Pxjfe0D",
        "colab_type": "code",
        "colab": {
          "base_uri": "https://localhost:8080/",
          "height": 92
        },
        "outputId": "4bcf343b-7dcc-4cfa-fb50-05dc4d769354"
      },
      "source": [
        "!git clone https://gist.github.com/dc7e60aa487430ea704a8cb3f2c5d6a6.git /tmp/colab_util_repo\n",
        "!mv /tmp/colab_util_repo/colab_util.py colab_util.py \n",
        "!rm -r /tmp/colab_util_repo\n",
        "!pip install -U -q PyDrive\n",
        "from colab_util import *\n",
        "drive_handler = GoogleDriveHandler()"
      ],
      "execution_count": 20,
      "outputs": [
        {
          "output_type": "stream",
          "text": [
            "Cloning into '/tmp/colab_util_repo'...\n",
            "remote: Enumerating objects: 40, done.\u001b[K\n",
            "remote: Total 40 (delta 0), reused 0 (delta 0), pack-reused 40\u001b[K\n",
            "Unpacking objects:   2% (1/40)   \rUnpacking objects:   5% (2/40)   \rUnpacking objects:   7% (3/40)   \rUnpacking objects:  10% (4/40)   \rUnpacking objects:  12% (5/40)   \rUnpacking objects:  15% (6/40)   \rUnpacking objects:  17% (7/40)   \rUnpacking objects:  20% (8/40)   \rUnpacking objects:  22% (9/40)   \rUnpacking objects:  25% (10/40)   \rUnpacking objects:  27% (11/40)   \rUnpacking objects:  30% (12/40)   \rUnpacking objects:  32% (13/40)   \rUnpacking objects:  35% (14/40)   \rUnpacking objects:  37% (15/40)   \rUnpacking objects:  40% (16/40)   \rUnpacking objects:  42% (17/40)   \rUnpacking objects:  45% (18/40)   \rUnpacking objects:  47% (19/40)   \rUnpacking objects:  50% (20/40)   \rUnpacking objects:  52% (21/40)   \rUnpacking objects:  55% (22/40)   \rUnpacking objects:  57% (23/40)   \rUnpacking objects:  60% (24/40)   \rUnpacking objects:  62% (25/40)   \rUnpacking objects:  65% (26/40)   \rUnpacking objects:  67% (27/40)   \rUnpacking objects:  70% (28/40)   \rUnpacking objects:  72% (29/40)   \rUnpacking objects:  75% (30/40)   \rUnpacking objects:  77% (31/40)   \rUnpacking objects:  80% (32/40)   \rUnpacking objects:  82% (33/40)   \rUnpacking objects:  85% (34/40)   \rUnpacking objects:  87% (35/40)   \rUnpacking objects:  90% (36/40)   \rUnpacking objects:  92% (37/40)   \rUnpacking objects:  95% (38/40)   \rUnpacking objects:  97% (39/40)   \rUnpacking objects: 100% (40/40)   \rUnpacking objects: 100% (40/40), done.\n"
          ],
          "name": "stdout"
        }
      ]
    },
    {
      "cell_type": "code",
      "metadata": {
        "id": "HjeAeWBohDSo",
        "colab_type": "code",
        "colab": {}
      },
      "source": [
        "from google.colab import files\n",
        "files.download('model_v0.1.zip') "
      ],
      "execution_count": 0,
      "outputs": []
    },
    {
      "cell_type": "code",
      "metadata": {
        "id": "gV74IE0VhD3O",
        "colab_type": "code",
        "colab": {
          "base_uri": "https://localhost:8080/",
          "height": 73
        },
        "outputId": "dd3c23de-a45d-45b4-91b0-60cdaeb8a7c9"
      },
      "source": [
        "!zip -r /content/checkpoints.zip /data/checkpoints"
      ],
      "execution_count": 31,
      "outputs": [
        {
          "output_type": "stream",
          "text": [
            "\tzip warning: name not matched: /data/checkpoints\n",
            "\n",
            "zip error: Nothing to do! (try: zip -r /content/checkpoints.zip . -i /data/checkpoints)\n"
          ],
          "name": "stdout"
        }
      ]
    },
    {
      "cell_type": "code",
      "metadata": {
        "id": "QcyzCkwphE_q",
        "colab_type": "code",
        "colab": {
          "base_uri": "https://localhost:8080/",
          "height": 36
        },
        "outputId": "9e3e411e-cfc6-426e-d663-67278babff2a"
      },
      "source": [
        "!zip -r /content/checkpoints . -i /data/checkpoints"
      ],
      "execution_count": 32,
      "outputs": [
        {
          "output_type": "stream",
          "text": [
            "\tzip warning: zip file empty\n"
          ],
          "name": "stdout"
        }
      ]
    },
    {
      "cell_type": "code",
      "metadata": {
        "id": "UqGSuSxKnQGN",
        "colab_type": "code",
        "colab": {}
      },
      "source": [
        ""
      ],
      "execution_count": 0,
      "outputs": []
    },
    {
      "cell_type": "code",
      "metadata": {
        "id": "3YwwCkb3ucyZ",
        "colab_type": "code",
        "colab": {}
      },
      "source": [
        "!pip install -U -q PyDrive\n",
        "\n",
        "from google.colab import files\n",
        "from pydrive.auth import GoogleAuth\n",
        "from pydrive.drive import GoogleDrive\n",
        "from google.colab import auth\n",
        "from oauth2client.client import GoogleCredentials\n",
        "import zipfile\n",
        "import os\n",
        "import sys\n",
        "\n"
      ],
      "execution_count": 0,
      "outputs": []
    },
    {
      "cell_type": "code",
      "metadata": {
        "id": "8vBq_DR8ujXF",
        "colab_type": "code",
        "colab": {}
      },
      "source": [
        "zipname = 'model_v0.2'\n",
        "\n",
        "def zipfolder(foldername, target_dir):            \n",
        "    zipobj = zipfile.ZipFile(foldername + '.zip', 'w', zipfile.ZIP_DEFLATED)\n",
        "    rootlen = len(target_dir) + 1\n",
        "    for base, dirs, files in os.walk(target_dir):\n",
        "        for file in files:\n",
        "            fn = os.path.join(base, file)\n",
        "            zipobj.write(fn, fn[rootlen:])\n",
        "\n",
        "zipfolder(zipname, '/content/MODEL/')\n",
        "\n"
      ],
      "execution_count": 0,
      "outputs": []
    },
    {
      "cell_type": "code",
      "metadata": {
        "id": "wLfERiZmujy0",
        "colab_type": "code",
        "colab": {}
      },
      "source": [
        "# 1. Authenticate and create the PyDrive client.\n",
        "auth.authenticate_user()\n",
        "gauth = GoogleAuth()\n",
        "gauth.credentials = GoogleCredentials.get_application_default()\n",
        "drive = GoogleDrive(gauth)\n",
        "\n",
        "# 2. Create & upload a file text file.\n",
        "file1 = drive.CreateFile({'checkpointmodel' : 'checkpoints'})\n",
        "file1.SetContentFile(zipname+\".zip\")\n",
        "file1.Upload()\n"
      ],
      "execution_count": 0,
      "outputs": []
    },
    {
      "cell_type": "code",
      "metadata": {
        "id": "Uj7tBiA1ukMf",
        "colab_type": "code",
        "colab": {}
      },
      "source": [
        ""
      ],
      "execution_count": 0,
      "outputs": []
    },
    {
      "cell_type": "code",
      "metadata": {
        "id": "v5d0ucBCudn2",
        "colab_type": "code",
        "colab": {}
      },
      "source": [
        "!pip install -U -q PyDrive\n",
        "from pydrive.auth import GoogleAuth\n",
        "from pydrive.drive import GoogleDrive \n",
        "from google.colab import auth \n",
        "from oauth2client.client import GoogleCredentials"
      ],
      "execution_count": 0,
      "outputs": []
    },
    {
      "cell_type": "code",
      "metadata": {
        "id": "qBnnJQN-xqY5",
        "colab_type": "code",
        "colab": {}
      },
      "source": [
        "auth.authenticate_user()\n",
        "gauth = GoogleAuth()\n",
        "gauth.credentials = GoogleCredentials.get_application_default()                      \n",
        "drive = GoogleDrive(gauth)"
      ],
      "execution_count": 0,
      "outputs": []
    },
    {
      "cell_type": "code",
      "metadata": {
        "id": "h4R7wv5YxrEY",
        "colab_type": "code",
        "colab": {
          "base_uri": "https://localhost:8080/",
          "height": 343
        },
        "outputId": "13375b90-1521-4edd-a33e-b9f2b2ea807b"
      },
      "source": [
        "#model.save('model.h5')\n",
        "model_file = drive.CreateFile({'checkpointmodel' : 'checkpoints'})\n",
        "model_file.SetContentFile('checkpoint')                       \n",
        "model_file.Upload()"
      ],
      "execution_count": 42,
      "outputs": [
        {
          "output_type": "error",
          "ename": "FileNotFoundError",
          "evalue": "ignored",
          "traceback": [
            "\u001b[0;31m---------------------------------------------------------------------------\u001b[0m",
            "\u001b[0;31mFileNotFoundError\u001b[0m                         Traceback (most recent call last)",
            "\u001b[0;32m<ipython-input-42-b7ef10ce8742>\u001b[0m in \u001b[0;36m<module>\u001b[0;34m()\u001b[0m\n\u001b[1;32m      1\u001b[0m \u001b[0mmodel_file\u001b[0m \u001b[0;34m=\u001b[0m \u001b[0mdrive\u001b[0m\u001b[0;34m.\u001b[0m\u001b[0mCreateFile\u001b[0m\u001b[0;34m(\u001b[0m\u001b[0;34m{\u001b[0m\u001b[0;34m'checkpointmodel'\u001b[0m \u001b[0;34m:\u001b[0m \u001b[0;34m'checkpoints'\u001b[0m\u001b[0;34m}\u001b[0m\u001b[0;34m)\u001b[0m\u001b[0;34m\u001b[0m\u001b[0;34m\u001b[0m\u001b[0m\n\u001b[0;32m----> 2\u001b[0;31m \u001b[0mmodel_file\u001b[0m\u001b[0;34m.\u001b[0m\u001b[0mSetContentFile\u001b[0m\u001b[0;34m(\u001b[0m\u001b[0;34m'checkpoint'\u001b[0m\u001b[0;34m)\u001b[0m\u001b[0;34m\u001b[0m\u001b[0;34m\u001b[0m\u001b[0m\n\u001b[0m\u001b[1;32m      3\u001b[0m \u001b[0mmodel_file\u001b[0m\u001b[0;34m.\u001b[0m\u001b[0mUpload\u001b[0m\u001b[0;34m(\u001b[0m\u001b[0;34m)\u001b[0m\u001b[0;34m\u001b[0m\u001b[0;34m\u001b[0m\u001b[0m\n",
            "\u001b[0;32m/usr/local/lib/python3.6/dist-packages/pydrive/files.py\u001b[0m in \u001b[0;36mSetContentFile\u001b[0;34m(self, filename)\u001b[0m\n\u001b[1;32m    167\u001b[0m     \u001b[0;34m:\u001b[0m\u001b[0mtype\u001b[0m \u001b[0mfilename\u001b[0m\u001b[0;34m:\u001b[0m \u001b[0mstr\u001b[0m\u001b[0;34m.\u001b[0m\u001b[0;34m\u001b[0m\u001b[0;34m\u001b[0m\u001b[0m\n\u001b[1;32m    168\u001b[0m     \"\"\"\n\u001b[0;32m--> 169\u001b[0;31m     \u001b[0mself\u001b[0m\u001b[0;34m.\u001b[0m\u001b[0mcontent\u001b[0m \u001b[0;34m=\u001b[0m \u001b[0mopen\u001b[0m\u001b[0;34m(\u001b[0m\u001b[0mfilename\u001b[0m\u001b[0;34m,\u001b[0m \u001b[0;34m'rb'\u001b[0m\u001b[0;34m)\u001b[0m\u001b[0;34m\u001b[0m\u001b[0;34m\u001b[0m\u001b[0m\n\u001b[0m\u001b[1;32m    170\u001b[0m     \u001b[0;32mif\u001b[0m \u001b[0mself\u001b[0m\u001b[0;34m.\u001b[0m\u001b[0mget\u001b[0m\u001b[0;34m(\u001b[0m\u001b[0;34m'title'\u001b[0m\u001b[0;34m)\u001b[0m \u001b[0;32mis\u001b[0m \u001b[0;32mNone\u001b[0m\u001b[0;34m:\u001b[0m\u001b[0;34m\u001b[0m\u001b[0;34m\u001b[0m\u001b[0m\n\u001b[1;32m    171\u001b[0m       \u001b[0mself\u001b[0m\u001b[0;34m[\u001b[0m\u001b[0;34m'title'\u001b[0m\u001b[0;34m]\u001b[0m \u001b[0;34m=\u001b[0m \u001b[0mfilename\u001b[0m\u001b[0;34m\u001b[0m\u001b[0;34m\u001b[0m\u001b[0m\n",
            "\u001b[0;31mFileNotFoundError\u001b[0m: [Errno 2] No such file or directory: 'checkpoint'"
          ]
        }
      ]
    },
    {
      "cell_type": "code",
      "metadata": {
        "id": "b7yq6N54xrbY",
        "colab_type": "code",
        "colab": {
          "base_uri": "https://localhost:8080/",
          "height": 36
        },
        "outputId": "02c3cdaa-8680-4a74-a955-0e12a5afbe80"
      },
      "source": [
        "!git add -A"
      ],
      "execution_count": 47,
      "outputs": [
        {
          "output_type": "stream",
          "text": [
            "fatal: not a git repository (or any of the parent directories): .git\n"
          ],
          "name": "stdout"
        }
      ]
    },
    {
      "cell_type": "code",
      "metadata": {
        "id": "rSaEFZ512wtv",
        "colab_type": "code",
        "colab": {}
      },
      "source": [
        ""
      ],
      "execution_count": 0,
      "outputs": []
    }
  ]
}